{
 "cells": [
  {
   "cell_type": "code",
   "execution_count": null,
   "metadata": {},
   "outputs": [],
   "source": [
    "import numpy as np\n",
    "import pandas as pd\n",
    "import dabest\n",
    "\n",
    "print(\"We're using DABEST v{}\".format(dabest.__version__))"
   ]
  },
  {
   "cell_type": "code",
   "execution_count": null,
   "metadata": {},
   "outputs": [],
   "source": [
    "def create_demo_prop_dataset(seed=9999, N=40):\n",
    "    import numpy as np\n",
    "    import pandas as pd\n",
    "\n",
    "    np.random.seed(9999)  # Fix the seed to ensure reproducibility of results.\n",
    "    # Create samples\n",
    "    n = 1\n",
    "    c1 = np.random.binomial(n, 0.2, size=N)\n",
    "    c2 = np.random.binomial(n, 0.2, size=N)\n",
    "    c3 = np.random.binomial(n, 0.8, size=N)\n",
    "\n",
    "    t1 = np.random.binomial(n, 0.6, size=N)\n",
    "    t2 = np.random.binomial(n, 0.2, size=N)\n",
    "    t3 = np.random.binomial(n, 0.3, size=N)\n",
    "    t4 = np.random.binomial(n, 0.4, size=N)\n",
    "    t5 = np.random.binomial(n, 0.5, size=N)\n",
    "    t6 = np.random.binomial(n, 0.6, size=N)\n",
    "    t7 = np.ones(N)\n",
    "    t8 = np.zeros(N)\n",
    "    t9 = np.zeros(N)\n",
    "\n",
    "    # Add a `gender` column for coloring the data.\n",
    "    females = np.repeat('Female', N / 2).tolist()\n",
    "    males = np.repeat('Male', N / 2).tolist()\n",
    "    gender = females + males\n",
    "\n",
    "    # Add an `id` column for paired data plotting.\n",
    "    id_col = pd.Series(range(1, N + 1))\n",
    "\n",
    "    # Combine samples and gender into a DataFrame.\n",
    "    df = pd.DataFrame({'Control 1': c1, 'Test 1': t1,\n",
    "                       'Control 2': c2, 'Test 2': t2,\n",
    "                       'Control 3': c3, 'Test 3': t3,\n",
    "                       'Test 4': t4, 'Test 5': t5, 'Test 6': t6,\n",
    "                       'Test 7': t7, 'Test 8': t8, 'Test 9': t9,\n",
    "                       'Gender': gender, 'ID': id_col\n",
    "                       })\n",
    "\n",
    "    return df\n",
    "df = create_demo_prop_dataset()\n",
    "df.head()"
   ]
  }
 ],
 "metadata": {
  "language_info": {
   "name": "python"
  }
 },
 "nbformat": 4,
 "nbformat_minor": 2
}
